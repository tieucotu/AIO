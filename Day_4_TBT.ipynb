{
  "nbformat": 4,
  "nbformat_minor": 0,
  "metadata": {
    "colab": {
      "provenance": [],
      "authorship_tag": "ABX9TyNu64lExQnN0r/Zv4cpaCdF",
      "include_colab_link": true
    },
    "kernelspec": {
      "name": "python3",
      "display_name": "Python 3"
    },
    "language_info": {
      "name": "python"
    }
  },
  "cells": [
    {
      "cell_type": "markdown",
      "metadata": {
        "id": "view-in-github",
        "colab_type": "text"
      },
      "source": [
        "<a href=\"https://colab.research.google.com/github/tieucotu/AIO/blob/main/Day_4_TBT.ipynb\" target=\"_parent\"><img src=\"https://colab.research.google.com/assets/colab-badge.svg\" alt=\"Open In Colab\"/></a>"
      ]
    },
    {
      "cell_type": "code",
      "execution_count": 8,
      "metadata": {
        "id": "n7VoCkHCBfDU",
        "colab": {
          "base_uri": "https://localhost:8080/"
        },
        "outputId": "6487bbba-97e0-443b-ca3b-8897ecbf71f4"
      },
      "outputs": [
        {
          "output_type": "stream",
          "name": "stdout",
          "text": [
            "105\n",
            "102\n"
          ]
        }
      ],
      "source": [
        "## I__Find the smallest interger that is greater than 100 and divisible bt he interger a\n",
        "\n",
        "def find_divisible_number(a):\n",
        "# Code here\n",
        "  num = 101             # Need number greater than 100\n",
        "  while num % a != 0:   # checking until find the number devisiable by a\n",
        "    num += 1\n",
        "    continue            # Skip the remaining of current loop and go to next interation in a While loop.\n",
        "  return num\n",
        "\n",
        "print(find_divisible_number(5))\n",
        "print(find_divisible_number(17))\n",
        "\n"
      ]
    },
    {
      "cell_type": "code",
      "source": [
        "## II__Find the smallest interger that is greater than 100 and divisible bt he interger a\n",
        "\n",
        "def find_divisible_number(a):\n",
        "  num = 101\n",
        "  while True:       # While the number is meet with condition that greater 100 and devisiable by a\n",
        "    if num % a == 0:\n",
        "      break         # Break: exit the while loop immediately\n",
        "    num += 1\n",
        "  return num\n",
        "\n",
        "print(find_divisible_number(5))\n",
        "print(find_divisible_number(17))\n"
      ],
      "metadata": {
        "colab": {
          "base_uri": "https://localhost:8080/"
        },
        "id": "5-JP7J92sST6",
        "outputId": "fd6fcf8f-1b57-4632-b3bf-04403694f70b"
      },
      "execution_count": 9,
      "outputs": [
        {
          "output_type": "stream",
          "name": "stdout",
          "text": [
            "105\n",
            "102\n"
          ]
        }
      ]
    }
  ]
}