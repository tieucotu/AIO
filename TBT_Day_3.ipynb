{
  "nbformat": 4,
  "nbformat_minor": 0,
  "metadata": {
    "colab": {
      "provenance": [],
      "authorship_tag": "ABX9TyO3KXNWl78luRWVmD5ellCr",
      "include_colab_link": true
    },
    "kernelspec": {
      "name": "python3",
      "display_name": "Python 3"
    },
    "language_info": {
      "name": "python"
    }
  },
  "cells": [
    {
      "cell_type": "markdown",
      "metadata": {
        "id": "view-in-github",
        "colab_type": "text"
      },
      "source": [
        "<a href=\"https://colab.research.google.com/github/tieucotu/AIO/blob/main/TBT_Day_3.ipynb\" target=\"_parent\"><img src=\"https://colab.research.google.com/assets/colab-badge.svg\" alt=\"Open In Colab\"/></a>"
      ]
    },
    {
      "cell_type": "code",
      "execution_count": 45,
      "metadata": {
        "id": "n7VoCkHCBfDU",
        "colab": {
          "base_uri": "https://localhost:8080/"
        },
        "outputId": "d985fc6d-665f-4ec2-8d7d-013d84cddb54"
      },
      "outputs": [
        {
          "output_type": "stream",
          "name": "stdout",
          "text": [
            "266\n",
            "32\n",
            "96\n"
          ]
        }
      ],
      "source": [
        "## Bài tập về sự ngẫu nhiên\n",
        "import random\n",
        "\n",
        "def random_number_with_condition(total):\n",
        "  # Set a random value that is the same between devices\n",
        "  random.seed(0)\n",
        "\n",
        "  # Code here\n",
        "  #a = random.randint(1, 20)\n",
        "  #b = random.randint(1, 20)\n",
        "  count = 0\n",
        "  sum = 0\n",
        "\n",
        "  while (sum != total):\n",
        "    a = random.randint(1, 20)\n",
        "    b = random.randint(1, 20)\n",
        "    sum = a + b\n",
        "    count += 1\n",
        "\n",
        "    if sum == total:\n",
        "      break\n",
        "  return count\n",
        "\n",
        "print(random_number_with_condition(40))\n",
        "print(random_number_with_condition(20))\n",
        "print(random_number_with_condition(35))\n"
      ]
    }
  ]
}