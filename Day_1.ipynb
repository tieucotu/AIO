{
  "nbformat": 4,
  "nbformat_minor": 0,
  "metadata": {
    "colab": {
      "provenance": [],
      "toc_visible": true,
      "authorship_tag": "ABX9TyPQrGFLRHbL0X15PKbZYaiR",
      "include_colab_link": true
    },
    "kernelspec": {
      "name": "python3",
      "display_name": "Python 3"
    },
    "language_info": {
      "name": "python"
    }
  },
  "cells": [
    {
      "cell_type": "markdown",
      "metadata": {
        "id": "view-in-github",
        "colab_type": "text"
      },
      "source": [
        "<a href=\"https://colab.research.google.com/github/tieucotu/AIO/blob/main/Day_1.ipynb\" target=\"_parent\"><img src=\"https://colab.research.google.com/assets/colab-badge.svg\" alt=\"Open In Colab\"/></a>"
      ]
    },
    {
      "cell_type": "code",
      "execution_count": null,
      "metadata": {
        "colab": {
          "base_uri": "https://localhost:8080/"
        },
        "id": "nr88ABsG7lAr",
        "outputId": "b3cd5bc8-277d-49e9-ba9f-10650dab9d53"
      },
      "outputs": [
        {
          "output_type": "stream",
          "name": "stdout",
          "text": [
            "Binh Dan\n",
            "Giap Thin\n",
            "Dinh Suu\n"
          ]
        }
      ],
      "source": [
        "def calculate_can_chi_calendar(year):\n",
        "  result = ''\n",
        "  #### Your code here #####\n",
        "  if year % 10 == 0:\n",
        "    result += 'Canh '\n",
        "  elif year % 10 == 1:\n",
        "    result += 'Tan '\n",
        "  elif year % 10 == 2:\n",
        "    result += 'Nham '\n",
        "  elif year % 10 == 3:\n",
        "    result += 'Quy '\n",
        "  elif year % 10 == 4:\n",
        "    result += 'Giap '\n",
        "  elif year % 10 == 5:\n",
        "    result += 'At '\n",
        "  elif year % 10 == 6:\n",
        "    result += 'Binh '\n",
        "  elif year % 10 == 7:\n",
        "    result += 'Dinh '\n",
        "  elif year % 10 == 8:\n",
        "    result += 'Mau '\n",
        "  else:\n",
        "    result += 'Ky '\n",
        "\n",
        "  if year % 12 == 0:\n",
        "    result += 'Than'\n",
        "  elif year % 12 == 1:\n",
        "    result += 'Dau'\n",
        "  elif year % 12 == 2:\n",
        "    result += 'Tuat'\n",
        "  elif year % 12 == 3:\n",
        "    result += 'Hoi'\n",
        "  elif year % 12 == 4:\n",
        "    result += 'Ty'\n",
        "  elif year % 12 == 5:\n",
        "    result += 'Suu'\n",
        "  elif year % 12 == 6:\n",
        "    result += 'Dan'\n",
        "  elif year % 12 == 7:\n",
        "    result += 'Meo'\n",
        "  elif year % 12 == 8:\n",
        "    result += 'Thin'\n",
        "  elif year % 12 == 9:\n",
        "    result += 'Ty'\n",
        "  elif year % 12 == 10:\n",
        "    result += 'Ngo'\n",
        "  else:\n",
        "    result += 'Mui'\n",
        "\n",
        "  return result\n",
        "\n",
        "print(calculate_can_chi_calendar(1986))\n",
        "print(calculate_can_chi_calendar(2024))\n",
        "print(calculate_can_chi_calendar(1997))"
      ]
    },
    {
      "cell_type": "code",
      "source": [
        "## Cach 1\n",
        "def calculate_can_chi_calendar(year):\n",
        "  result = ''\n",
        "  #### Your code here #####\n",
        "  can = ['Canh ', 'Tan ', 'Nham ', 'Quy ', 'Giap ', 'At ', 'Binh ', 'Dinh ', 'Mau ', 'Ky ']\n",
        "  chi = ['Than', 'Dau', 'Tuat', 'Hoi', 'Ty', 'Suu', 'Dan', 'Meo', 'Thin', 'Ty', 'Ngo', 'Mui']\n",
        "\n",
        "  for i in range(0, 9):\n",
        "    if year % 10 == i:\n",
        "      result += can[i]\n",
        "  for i in range (0, 11):\n",
        "    if year % 12 == i:\n",
        "      result += chi[i]\n",
        "  #### Your code here #####\n",
        "  return result\n",
        "\n",
        "print(calculate_can_chi_calendar(1986))\n",
        "print(calculate_can_chi_calendar(2024))\n",
        "print(calculate_can_chi_calendar(1997))"
      ],
      "metadata": {
        "colab": {
          "base_uri": "https://localhost:8080/"
        },
        "id": "V71Dpu-xATy4",
        "outputId": "26e57847-bcc1-494e-927f-ded123df4fb1"
      },
      "execution_count": null,
      "outputs": [
        {
          "output_type": "stream",
          "name": "stdout",
          "text": [
            "Binh Dan\n",
            "Giap Thin\n",
            "Dinh Suu\n"
          ]
        }
      ]
    },
    {
      "cell_type": "code",
      "source": [
        "## Cach 2\n",
        "def calculate_can_chi_calendar(year):\n",
        "  result = ''\n",
        "  #### Your code here #####\n",
        "  can = ['Canh ', 'Tan ', 'Nham ', 'Quy ', 'Giap ', 'At ', 'Binh ', 'Dinh ', 'Mau ', 'Ky ']\n",
        "  chi = ['Than', 'Dau', 'Tuat', 'Hoi', 'Ty', 'Suu', 'Dan', 'Meo', 'Thin', 'Ty', 'Ngo', 'Mui']\n",
        "  can_index = year % 10\n",
        "  chi_index = year % 12\n",
        "  result = can[can_index] + chi[chi_index]\n",
        "  #### Your code here #####\n",
        "  return result\n",
        "\n",
        "print(calculate_can_chi_calendar(1986))\n",
        "print(calculate_can_chi_calendar(2024))\n"
      ],
      "metadata": {
        "colab": {
          "base_uri": "https://localhost:8080/"
        },
        "id": "QAHuRfbACDCL",
        "outputId": "3e897ce8-5fe6-4d81-e2a1-b48c32dfcfb6"
      },
      "execution_count": null,
      "outputs": [
        {
          "output_type": "stream",
          "name": "stdout",
          "text": [
            "Binh Dan\n",
            "Giap Thin\n"
          ]
        }
      ]
    },
    {
      "cell_type": "code",
      "source": [
        "###   Viết các hàm kích hoạt thường dùng:\n",
        "import math\n",
        "# ReLU\n",
        "def relu(x):\n",
        "  if x > 0:\n",
        "    return x\n",
        "  else:\n",
        "\n",
        "    return 0\n",
        "# Leaky ReLU\n",
        "def leaky_relu(x, alpha = 0.01):\n",
        "  if x > 0:\n",
        "    return x\n",
        "  else:\n",
        "    return alpha * x\n",
        "# Sigmoid\n",
        "def sigmoid(x):\n",
        "  return 1 / (1 + math.exp(-x))\n",
        "# tanh\n",
        "def tanh(x):\n",
        "  return (math.exp(x) - math.exp(-x)) / (math.exp(x) + math.exp(-x))\n",
        "# ELU\n",
        "def elu(x, alpha = 0.01):\n",
        "  if x > 0:\n",
        "    return x\n",
        "  else:\n",
        "    return alpha * (math.exp(x) - 1)\n",
        "x = int(input(\"Nhập x: \"))\n",
        "print(relu(3))\n",
        "print(relu(-2))\n",
        "print(relu(0))\n",
        "print(leaky_relu(3))\n",
        "print(leaky_relu(-2))\n",
        "print(leaky_relu(0))\n",
        "print(sigmoid(0))\n",
        "print(sigmoid(2))\n",
        "print(sigmoid(-2))\n",
        "print(tanh(0))\n",
        "print(tanh(2))\n",
        "print(tanh(150))\n",
        "print(elu(3))\n",
        "print(elu(-1))\n",
        "print(elu(0))"
      ],
      "metadata": {
        "colab": {
          "base_uri": "https://localhost:8080/"
        },
        "id": "r896GVKUa2Ca",
        "outputId": "e217fa3f-5bc4-4513-feff-6c938da4dde7"
      },
      "execution_count": null,
      "outputs": [
        {
          "output_type": "stream",
          "name": "stdout",
          "text": [
            "Nhập x: 3\n",
            "3\n",
            "0\n",
            "0\n",
            "3\n",
            "-0.02\n",
            "0.0\n",
            "0.5\n",
            "0.8807970779778823\n",
            "0.11920292202211755\n",
            "0.0\n",
            "0.964027580075817\n",
            "1.0\n",
            "3\n",
            "-0.006321205588285576\n",
            "0.0\n"
          ]
        }
      ]
    }
  ]
}