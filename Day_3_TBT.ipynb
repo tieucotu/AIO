{
  "nbformat": 4,
  "nbformat_minor": 0,
  "metadata": {
    "colab": {
      "provenance": [],
      "authorship_tag": "ABX9TyOhCN3kr22DDLt8tX4w/9+k",
      "include_colab_link": true
    },
    "kernelspec": {
      "name": "python3",
      "display_name": "Python 3"
    },
    "language_info": {
      "name": "python"
    }
  },
  "cells": [
    {
      "cell_type": "markdown",
      "metadata": {
        "id": "view-in-github",
        "colab_type": "text"
      },
      "source": [
        "<a href=\"https://colab.research.google.com/github/tieucotu/AIO/blob/main/Day_3_TBT.ipynb\" target=\"_parent\"><img src=\"https://colab.research.google.com/assets/colab-badge.svg\" alt=\"Open In Colab\"/></a>"
      ]
    },
    {
      "cell_type": "code",
      "execution_count": null,
      "metadata": {
        "id": "n7VoCkHCBfDU",
        "colab": {
          "base_uri": "https://localhost:8080/"
        },
        "outputId": "d985fc6d-665f-4ec2-8d7d-013d84cddb54"
      },
      "outputs": [
        {
          "output_type": "stream",
          "name": "stdout",
          "text": [
            "266\n",
            "32\n",
            "96\n"
          ]
        }
      ],
      "source": [
        "## Bài tập về sự ngẫu nhiên\n",
        "import random\n",
        "\n",
        "def random_number_with_condition(total):\n",
        "  # Set a random value that is the same between devices\n",
        "  random.seed(0)\n",
        "\n",
        "  # Code here\n",
        "  #a = random.randint(1, 20)\n",
        "  #b = random.randint(1, 20)\n",
        "  count = 0\n",
        "  sum = 0\n",
        "\n",
        "  while (sum != total):\n",
        "    a = random.randint(1, 20)\n",
        "    b = random.randint(1, 20)\n",
        "    sum = a + b\n",
        "    count += 1\n",
        "\n",
        "    if sum == total:\n",
        "      break\n",
        "  return count\n",
        "\n",
        "print(random_number_with_condition(40))\n",
        "print(random_number_with_condition(20))\n",
        "print(random_number_with_condition(35))\n"
      ]
    },
    {
      "cell_type": "code",
      "source": [
        "import random\n",
        "def random_number_with_condition(total):\n",
        "  random.seed(0)\n",
        "  count = 0\n",
        "\n",
        "  while True:\n",
        "    count += 1\n",
        "    random_number_a = random.randint(1, 20)\n",
        "    random_number_b = random.randint(1, 20)\n",
        "    if random_number_a + random_number_b == total:\n",
        "      break\n",
        "  return count\n",
        "\n",
        "print(random_number_with_condition(40))\n",
        "print(random_number_with_condition(20))\n",
        "print(random_number_with_condition(35))\n",
        ""
      ],
      "metadata": {
        "colab": {
          "base_uri": "https://localhost:8080/"
        },
        "id": "VxessjjGtCBe",
        "outputId": "f58b28ab-e624-4644-c51e-9e600061ee9d"
      },
      "execution_count": 1,
      "outputs": [
        {
          "output_type": "stream",
          "name": "stdout",
          "text": [
            "266\n",
            "32\n",
            "96\n"
          ]
        }
      ]
    }
  ]
}