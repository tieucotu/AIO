{
  "nbformat": 4,
  "nbformat_minor": 0,
  "metadata": {
    "colab": {
      "provenance": [],
      "authorship_tag": "ABX9TyN8Hlpqxa6V9/NYyBJDSSDa",
      "include_colab_link": true
    },
    "kernelspec": {
      "name": "python3",
      "display_name": "Python 3"
    },
    "language_info": {
      "name": "python"
    }
  },
  "cells": [
    {
      "cell_type": "markdown",
      "metadata": {
        "id": "view-in-github",
        "colab_type": "text"
      },
      "source": [
        "<a href=\"https://colab.research.google.com/github/tieucotu/AIO/blob/main/Day_8_TBT.ipynb\" target=\"_parent\"><img src=\"https://colab.research.google.com/assets/colab-badge.svg\" alt=\"Open In Colab\"/></a>"
      ]
    },
    {
      "cell_type": "code",
      "execution_count": 31,
      "metadata": {
        "colab": {
          "base_uri": "https://localhost:8080/"
        },
        "id": "l8iBGayalV0u",
        "outputId": "12cae9d5-ded9-4c01-ffc2-878c8c1319c6"
      },
      "outputs": [
        {
          "output_type": "stream",
          "name": "stdout",
          "text": [
            "(2, 3) (3, 6)\n"
          ]
        }
      ],
      "source": [
        "import math\n",
        "#_____I.\n",
        "#__8.1\n",
        "\n",
        "my_tuple_1 = (2, 3)\n",
        "my_tuple_2 = (3, 6)\n",
        "print(my_tuple_1, my_tuple_2)"
      ]
    },
    {
      "cell_type": "code",
      "source": [
        "#__8.2\n",
        "def addition(my_tuple):\n",
        "  sum_vector = 0\n",
        "  for i in my_tuple:\n",
        "      sum_vector += i\n",
        "  return sum_vector\n",
        "def multiplication(my_tuple):\n",
        "  multi_vector = 1\n",
        "  for i in my_tuple:\n",
        "     multi_vector *= i\n",
        "  return multi_vector\n",
        "\n",
        "print(f\"Sum & Multi of vector {my_tuple_1} is___: ({addition(my_tuple_1)}), ({multiplication(my_tuple_1)})\")\n",
        "print(f\"Sum & Multi of vector {my_tuple_2} is___: ({addition(my_tuple_2)}), ({multiplication(my_tuple_2)})\")"
      ],
      "metadata": {
        "colab": {
          "base_uri": "https://localhost:8080/"
        },
        "id": "2rgsMUBGwVNq",
        "outputId": "af8ca94e-4f40-49e6-e0e7-c1e9eb0ed0c0"
      },
      "execution_count": 28,
      "outputs": [
        {
          "output_type": "stream",
          "name": "stdout",
          "text": [
            "Sum & Multi of vector (2, 3) is___: (5), (6)\n",
            "Sum & Multi of vector (3, 6) is___: (9), (18)\n"
          ]
        }
      ]
    },
    {
      "cell_type": "code",
      "source": [
        "#__8.3\n",
        "distance = math.sqrt((my_tuple_1[0] - my_tuple_2[0])**2 + (my_tuple_1[1] - my_tuple_2[1])**2)\n",
        "print(f\"Distance between {my_tuple_1} and {my_tuple_2} is {distance}\")"
      ],
      "metadata": {
        "colab": {
          "base_uri": "https://localhost:8080/"
        },
        "id": "JQq2va5nweVv",
        "outputId": "59e5008a-7694-4306-ad82-bd75f1cd78dc"
      },
      "execution_count": 29,
      "outputs": [
        {
          "output_type": "stream",
          "name": "stdout",
          "text": [
            "Distance between (2, 3) and (3, 6) is 3.1622776601683795\n"
          ]
        }
      ]
    },
    {
      "cell_type": "code",
      "source": [
        "#__8.4\n",
        "position_index = (my_tuple_1.index(3), my_tuple_2.index(3))\n",
        "print(f\"Index = {position_index}\")"
      ],
      "metadata": {
        "colab": {
          "base_uri": "https://localhost:8080/"
        },
        "id": "3ggbErXxwrLX",
        "outputId": "149786c6-e333-46dd-8c87-f1feb4af1a55"
      },
      "execution_count": 30,
      "outputs": [
        {
          "output_type": "stream",
          "name": "stdout",
          "text": [
            "Index = (1, 0)\n"
          ]
        }
      ]
    },
    {
      "cell_type": "code",
      "source": [
        "#_____II.\n",
        "#__8.1\n",
        "\n",
        "corpus = ['Tôi thích môn Toán', 'Tôi thích AI', 'Tôi thích âm nhạc']\n",
        "##\n",
        "vector = []\n",
        "distinct_words = []\n",
        "for sentence in corpus:\n",
        "  for word in sentence.split():\n",
        "    if word not in distinct_words:\n",
        "      distinct_words.append(word)\n",
        "distinct_words.sort()\n",
        "\n",
        "second_corpus = 'Tôi thích AI thích Toán'\n",
        "for word_1 in distinct_words:\n",
        "  count = 0\n",
        "  for word_2 in second_corpus.split():\n",
        "    if word_1 == word_2:\n",
        "      count += 1\n",
        "  vector.append(count)\n",
        "print(f'{second_corpus}: {vector}')\n",
        "print(f'Bag-of-words: {distinct_words}')\n",
        "\n",
        "\n",
        "\n",
        "print(distinct_words)"
      ],
      "metadata": {
        "colab": {
          "base_uri": "https://localhost:8080/"
        },
        "id": "VJIQKHVhwxLL",
        "outputId": "dd580c3f-35f9-4766-c234-011d39609366"
      },
      "execution_count": 42,
      "outputs": [
        {
          "output_type": "stream",
          "name": "stdout",
          "text": [
            "Tôi thích AI thích Toán: [1, 1, 1, 0, 0, 2, 0]\n",
            "Bag-of-words: ['AI', 'Toán', 'Tôi', 'môn', 'nhạc', 'thích', 'âm']\n",
            "['AI', 'Toán', 'Tôi', 'môn', 'nhạc', 'thích', 'âm']\n"
          ]
        }
      ]
    }
  ]
}