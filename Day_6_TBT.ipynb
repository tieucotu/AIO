{
  "nbformat": 4,
  "nbformat_minor": 0,
  "metadata": {
    "colab": {
      "provenance": [],
      "authorship_tag": "ABX9TyP7P1cc2OJw5PyxOTp7QhWj",
      "include_colab_link": true
    },
    "kernelspec": {
      "name": "python3",
      "display_name": "Python 3"
    },
    "language_info": {
      "name": "python"
    }
  },
  "cells": [
    {
      "cell_type": "markdown",
      "metadata": {
        "id": "view-in-github",
        "colab_type": "text"
      },
      "source": [
        "<a href=\"https://colab.research.google.com/github/tieucotu/AIO/blob/main/Day_6_TBT.ipynb\" target=\"_parent\"><img src=\"https://colab.research.google.com/assets/colab-badge.svg\" alt=\"Open In Colab\"/></a>"
      ]
    },
    {
      "cell_type": "code",
      "execution_count": 18,
      "metadata": {
        "colab": {
          "base_uri": "https://localhost:8080/"
        },
        "id": "v2lmIKIPUwt2",
        "outputId": "a6d86b76-9d3b-4712-a0ff-2c3bc2eed944"
      },
      "outputs": [
        {
          "output_type": "stream",
          "name": "stdout",
          "text": [
            "[1, 2, 3, 4, 5, 6, 7, 8, 9, 10]\n",
            "[1, 2, 3, 4, 5]\n",
            "1\n",
            "3\n",
            "5\n",
            "7\n",
            "9\n",
            "55\n"
          ]
        }
      ],
      "source": [
        "lst_data = [1, 2, 3, 4, 5, 6, 7, 8, 9, 10]\n",
        "# Code here\n",
        "#__1\n",
        "print(lst_data)\n",
        "#__2\n",
        "print(lst_data[:5:])\n",
        "#__3\n",
        "for i in lst_data:\n",
        "    if i % 2 != 0:\n",
        "        print(i)\n",
        "#__4\n",
        "total = 0\n",
        "for i in lst_data:\n",
        "  total += i\n",
        "print(total)\n"
      ]
    }
  ]
}