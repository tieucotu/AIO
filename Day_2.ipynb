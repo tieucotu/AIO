{
  "nbformat": 4,
  "nbformat_minor": 0,
  "metadata": {
    "colab": {
      "provenance": [],
      "authorship_tag": "ABX9TyMr3v/dBuwoU/bca55JZLbB",
      "include_colab_link": true
    },
    "kernelspec": {
      "name": "python3",
      "display_name": "Python 3"
    },
    "language_info": {
      "name": "python"
    }
  },
  "cells": [
    {
      "cell_type": "markdown",
      "metadata": {
        "id": "view-in-github",
        "colab_type": "text"
      },
      "source": [
        "<a href=\"https://colab.research.google.com/github/tieucotu/AIO/blob/main/Day_2.ipynb\" target=\"_parent\"><img src=\"https://colab.research.google.com/assets/colab-badge.svg\" alt=\"Open In Colab\"/></a>"
      ]
    },
    {
      "cell_type": "code",
      "execution_count": 8,
      "metadata": {
        "colab": {
          "base_uri": "https://localhost:8080/"
        },
        "id": "J1YJ25sPeCVJ",
        "outputId": "56a1ea2b-575e-4250-ada4-66c31f7765ca"
      },
      "outputs": [
        {
          "output_type": "stream",
          "name": "stdout",
          "text": [
            "2.6130352902246763\n",
            "2.7145674820219714\n",
            "2.716422326460353\n"
          ]
        }
      ],
      "source": [
        "## 2.1 Tính lãi xuất tiền gửi ngân hàng\n",
        "import math\n",
        "\n",
        "def compute_interest(money, period):\n",
        "#### Code ####\n",
        "  for _ in range(period):\n",
        "    money *= (1 + (1 / period))\n",
        "  return money\n",
        "###\n",
        "print(compute_interest(1, 12))\n",
        "print(compute_interest(1, 365))\n",
        "print(compute_interest(1, 730))"
      ]
    },
    {
      "cell_type": "code",
      "source": [
        "## 2.2 Thuật toán sàng số nguyên tố Eratosthenes\n",
        "import math\n",
        "def is_prime_eratosthenes(n):\n",
        "  ### Code ###\n",
        "  if n < 2:\n",
        "    return False\n",
        "\n",
        "  prime =[]\n",
        "  for i in range(n + 1):\n",
        "    prime.append(True)\n",
        "  prime[0] = False\n",
        "  prime[1] = False\n",
        "\n",
        "  for i in range(2, int(math.sqrt(n)) + 1):\n",
        "    if prime[i] == True:\n",
        "      for j in range(i * 2, n + 1, i):\n",
        "        prime[j] = False\n",
        "  return prime[n]\n",
        "###\n",
        "print(is_prime_eratosthenes(7))\n",
        "print(is_prime_eratosthenes(10))\n",
        "print(is_prime_eratosthenes(2))\n",
        "print(is_prime_eratosthenes(1))\n"
      ],
      "metadata": {
        "colab": {
          "base_uri": "https://localhost:8080/"
        },
        "id": "soRn9nG88K2h",
        "outputId": "2176e2d8-4e14-4cde-9afa-c25f8a91d20a"
      },
      "execution_count": 9,
      "outputs": [
        {
          "output_type": "stream",
          "name": "stdout",
          "text": [
            "True\n",
            "False\n",
            "True\n",
            "False\n"
          ]
        }
      ]
    }
  ]
}