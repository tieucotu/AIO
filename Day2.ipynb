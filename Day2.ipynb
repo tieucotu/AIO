{
  "nbformat": 4,
  "nbformat_minor": 0,
  "metadata": {
    "colab": {
      "provenance": [],
      "include_colab_link": true
    },
    "kernelspec": {
      "name": "python3",
      "display_name": "Python 3"
    },
    "language_info": {
      "name": "python"
    }
  },
  "cells": [
    {
      "cell_type": "markdown",
      "metadata": {
        "id": "view-in-github",
        "colab_type": "text"
      },
      "source": [
        "<a href=\"https://colab.research.google.com/github/tieucotu/AIO/blob/main/Day2.ipynb\" target=\"_parent\"><img src=\"https://colab.research.google.com/assets/colab-badge.svg\" alt=\"Open In Colab\"/></a>"
      ]
    },
    {
      "cell_type": "markdown",
      "source": [
        "##Bài 1"
      ],
      "metadata": {
        "id": "D6mgyWFul0XB"
      }
    },
    {
      "cell_type": "code",
      "execution_count": null,
      "metadata": {
        "id": "4a9sZMkGlixL"
      },
      "outputs": [],
      "source": [
        "def compute_interest(money, period):\n",
        "  # Your code here #\n",
        "  for _ in range(period):\n",
        "    money = money * (1 + 1/period)\n",
        "  return money"
      ]
    },
    {
      "cell_type": "code",
      "source": [
        "#Test code\n",
        "print(compute_interest(1, 12))\n",
        "print(compute_interest(1, 365))\n",
        "print(compute_interest(1, 730))"
      ],
      "metadata": {
        "colab": {
          "base_uri": "https://localhost:8080/"
        },
        "id": "fUTWxqVDmydX",
        "outputId": "ea73eb5d-6817-44e1-9bdc-55719131c835"
      },
      "execution_count": null,
      "outputs": [
        {
          "output_type": "stream",
          "name": "stdout",
          "text": [
            "2.6130352902246763\n",
            "2.7145674820219714\n",
            "2.716422326460353\n"
          ]
        }
      ]
    },
    {
      "cell_type": "markdown",
      "source": [
        "## Bài 2"
      ],
      "metadata": {
        "id": "JJ517v14pEqM"
      }
    },
    {
      "cell_type": "code",
      "source": [
        "def is_prime_eratosthenes(n):\n",
        "  # Your code here #\n",
        "  if n < 2:\n",
        "    return False\n",
        "\n",
        "  prime = []\n",
        "  for _ in range(n + 1):\n",
        "    prime.append(True)\n",
        "  prime[0] = False\n",
        "  prime[1] = False\n",
        "\n",
        "  for i in range(2, int(n**0.5)):\n",
        "    if prime[i]:\n",
        "      for j in range(i*i, n + 1, i):\n",
        "        prime[j] = False\n",
        "  return prime[n]\n"
      ],
      "metadata": {
        "id": "78EGbObao7ur"
      },
      "execution_count": null,
      "outputs": []
    },
    {
      "cell_type": "code",
      "source": [
        "#Test code\n",
        "print(is_prime_eratosthenes(7))\n",
        "print(is_prime_eratosthenes(10))\n",
        "print(is_prime_eratosthenes(2))\n",
        "print(is_prime_eratosthenes(1))"
      ],
      "metadata": {
        "colab": {
          "base_uri": "https://localhost:8080/"
        },
        "id": "WeTew1D7p5jw",
        "outputId": "08e52756-a92c-4e89-fede-a93d2a14bea8"
      },
      "execution_count": null,
      "outputs": [
        {
          "output_type": "stream",
          "name": "stdout",
          "text": [
            "True\n",
            "False\n",
            "True\n",
            "False\n"
          ]
        }
      ]
    },
    {
      "cell_type": "code",
      "source": [],
      "metadata": {
        "id": "yWcy3FuoqDV9"
      },
      "execution_count": null,
      "outputs": []
    }
  ]
}