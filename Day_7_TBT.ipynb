{
  "nbformat": 4,
  "nbformat_minor": 0,
  "metadata": {
    "colab": {
      "provenance": [],
      "authorship_tag": "ABX9TyNd3eie10P/E4T6OS64y+j3",
      "include_colab_link": true
    },
    "kernelspec": {
      "name": "python3",
      "display_name": "Python 3"
    },
    "language_info": {
      "name": "python"
    }
  },
  "cells": [
    {
      "cell_type": "markdown",
      "metadata": {
        "id": "view-in-github",
        "colab_type": "text"
      },
      "source": [
        "<a href=\"https://colab.research.google.com/github/tieucotu/AIO/blob/main/Day_7_TBT.ipynb\" target=\"_parent\"><img src=\"https://colab.research.google.com/assets/colab-badge.svg\" alt=\"Open In Colab\"/></a>"
      ]
    },
    {
      "cell_type": "code",
      "execution_count": 42,
      "metadata": {
        "colab": {
          "base_uri": "https://localhost:8080/"
        },
        "id": "T65FTiVPZHCM",
        "outputId": "ae0be1a6-cb4a-48f5-8cc4-8032f304b92c"
      },
      "outputs": [
        {
          "output_type": "stream",
          "name": "stdout",
          "text": [
            "Q1:  [2, 4, 6, 8, 10, 12]\n",
            "Q2:  [2, 4, 8, 10]\n",
            "Q3:  [2, 4, 8, 6, 7, 8, 10, 1, 2, 3]\n",
            "Q4:  [0, 0, 0, 0, 7, 8, 0, 1, 0, 3]\n"
          ]
        }
      ],
      "source": [
        "#__1\n",
        "lst_data = []\n",
        "for number1 in range(1, 13):\n",
        "    if number1 % 2 == 0:\n",
        "        lst_data.append(number1)\n",
        "    else:\n",
        "      continue\n",
        "print('Q1: ',lst_data)\n",
        "\n",
        "#__2\n",
        "for number2 in lst_data:\n",
        "    if number2 % 3 == 0:\n",
        "      lst_data.remove(number2)\n",
        "    else:\n",
        "      continue\n",
        "print('Q2: ',lst_data)\n",
        "\n",
        "#__3.1\n",
        "\n",
        "for i in range(1, 4):\n",
        "  lst_data.append(i)\n",
        "  #__3.2\n",
        "for j in range(8, 5, -1):\n",
        "  lst_data.insert(3, j)\n",
        "print('Q3: ',lst_data)\n",
        "'''\n",
        "#__3.3\n",
        "number_start = 6\n",
        "index_start = 3\n",
        "for _ in range(3):\n",
        "  lst_data.insert(index_start, number_start)\n",
        "  index_start += 1\n",
        "  number_start += 1\n",
        "\n",
        "print('Q3_3: ',lst_data)\n",
        "'''\n",
        "#__4\n",
        "for index in lst_data:\n",
        "  if (lst_data[index] % 2 == 0) or (lst_data[index] % 5 == 0):\n",
        "   lst_data[index] = 0\n",
        "print('Q4: ',lst_data)\n"
      ]
    }
  ]
}