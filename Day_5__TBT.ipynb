{
  "nbformat": 4,
  "nbformat_minor": 0,
  "metadata": {
    "colab": {
      "provenance": [],
      "authorship_tag": "ABX9TyNjr4gF6MMNGDkjWLqn60sj",
      "include_colab_link": true
    },
    "kernelspec": {
      "name": "python3",
      "display_name": "Python 3"
    },
    "language_info": {
      "name": "python"
    }
  },
  "cells": [
    {
      "cell_type": "markdown",
      "metadata": {
        "id": "view-in-github",
        "colab_type": "text"
      },
      "source": [
        "<a href=\"https://colab.research.google.com/github/tieucotu/AIO/blob/main/Day_5__TBT.ipynb\" target=\"_parent\"><img src=\"https://colab.research.google.com/assets/colab-badge.svg\" alt=\"Open In Colab\"/></a>"
      ]
    },
    {
      "cell_type": "code",
      "execution_count": 3,
      "metadata": {
        "colab": {
          "base_uri": "https://localhost:8080/"
        },
        "id": "FWUPEeecwnqq",
        "outputId": "8595d72f-d304-4cfb-d713-d85eaf9e1a42"
      },
      "outputs": [
        {
          "output_type": "stream",
          "name": "stdout",
          "text": [
            "1.4142156862745099\n",
            "1.7320508100147276\n"
          ]
        }
      ],
      "source": [
        "# Find square-root of random number a.\n",
        "def find_square_root(a):\n",
        "  EPSILON = 0.01\n",
        "# Code here\n",
        "  x = a\n",
        "  while True:\n",
        "    f_x = x*x - a\n",
        "    derivative_f_x = 2*x\n",
        "    x_new = x - f_x / derivative_f_x\n",
        "    if abs(x_new - x) < EPSILON:\n",
        "      break\n",
        "    x = x_new\n",
        "  return x_new\n",
        "print(find_square_root(2))\n",
        "print(find_square_root(3))\n"
      ]
    }
  ]
}